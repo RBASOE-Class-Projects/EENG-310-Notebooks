{
  "cells": [
    {
      "cell_type": "code",
      "execution_count": null,
      "metadata": {
        "id": "v5rH7xzqob0z"
      },
      "outputs": [],
      "source": [
        "import sympy as sp\n",
        "import numpy as np\n",
        "import matplotlib.pyplot as plt"
      ]
    },
    {
      "cell_type": "markdown",
      "metadata": {
        "id": "qNRkBXM-okdd"
      },
      "source": [
        "This activity is intended to introduce you to colab notebooks in the contextp of Signals and Systems. We'll be using colab extensively this semester.\n",
        "\n",
        "The first library is `sympy` which is used for symbolic manipulation. You can define symbols like this:"
      ]
    },
    {
      "cell_type": "code",
      "execution_count": null,
      "metadata": {
        "id": "UfCqVL1Yo1sr"
      },
      "outputs": [],
      "source": [
        "t,R,C,L = sp.symbols(\"t,R,C,L\", positive=True, real=True)\n",
        "Va,Vb = sp.symbols(\"Va,Vb\", real=True)"
      ]
    },
    {
      "cell_type": "markdown",
      "metadata": {
        "id": "dPGS6zfPpSS5"
      },
      "source": [
        "Then you can define expressions based on those symbols.\n",
        "\n",
        "Suppose we have a circuit like this:\n",
        "\n",
        "![Simple LRC](https://github.com/RBASOE-Class-Projects/EENG-310-Notebooks/blob/main/images/simpleLRC.png?raw=true)\n",
        "\n",
        "We can define $v_a$, $v_b$, and $v_c$ as shown.\n",
        "\n",
        "Suppose the input voltage has a laplace transform of $V_1(s)$. Then we have $v_a(s) = V_1(s)$.\n",
        "\n",
        "We can write expressions for $v_b$ and $v_c$ in terms of $v_a$, $L$, $R$, and $C$."
      ]
    },
    {
      "cell_type": "code",
      "execution_count": null,
      "metadata": {
        "id": "GzmtnxIMpFLr"
      },
      "outputs": [],
      "source": []
    }
  ],
  "metadata": {
    "colab": {
      "provenance": []
    },
    "kernelspec": {
      "display_name": "Python 3",
      "name": "python3"
    },
    "language_info": {
      "name": "python"
    }
  },
  "nbformat": 4,
  "nbformat_minor": 0
}
